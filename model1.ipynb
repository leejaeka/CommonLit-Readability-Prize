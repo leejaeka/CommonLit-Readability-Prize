{
 "cells": [
  {
   "cell_type": "code",
   "execution_count": 6,
   "id": "1b9eff5d",
   "metadata": {},
   "outputs": [],
   "source": [
    "import pandas as pd\n",
    "import seaborn as sns\n",
    "import matplotlib.pyplot as plt\n",
    "import numpy as np\n",
    "import gc \n",
    "import regex as re\n",
    "from sklearn import preprocessing\n",
    "from sklearn.ensemble import RandomForestRegressor\n",
    "\n",
    "import re\n",
    "import nltk\n",
    "from nltk.corpus import stopwords\n",
    "from nltk.stem.wordnet import WordNetLemmatizer\n",
    "from nltk.tokenize import word_tokenize\n",
    "import spacy\n",
    "pd.set_option('display.max_colwidth', 500)"
   ]
  },
  {
   "cell_type": "code",
   "execution_count": 4,
   "id": "a2c07f7f",
   "metadata": {},
   "outputs": [
    {
     "data": {
      "text/html": [
       "<div>\n",
       "<style scoped>\n",
       "    .dataframe tbody tr th:only-of-type {\n",
       "        vertical-align: middle;\n",
       "    }\n",
       "\n",
       "    .dataframe tbody tr th {\n",
       "        vertical-align: top;\n",
       "    }\n",
       "\n",
       "    .dataframe thead th {\n",
       "        text-align: right;\n",
       "    }\n",
       "</style>\n",
       "<table border=\"1\" class=\"dataframe\">\n",
       "  <thead>\n",
       "    <tr style=\"text-align: right;\">\n",
       "      <th></th>\n",
       "      <th>Unnamed: 0</th>\n",
       "      <th>excerpt</th>\n",
       "      <th>target</th>\n",
       "      <th>word_count</th>\n",
       "      <th>char_count</th>\n",
       "      <th>period_count</th>\n",
       "      <th>ques_count</th>\n",
       "      <th>excl_count</th>\n",
       "      <th>sent_count</th>\n",
       "    </tr>\n",
       "  </thead>\n",
       "  <tbody>\n",
       "    <tr>\n",
       "      <th>0</th>\n",
       "      <td>1705</td>\n",
       "      <td>The commutator is peculiar, consisting of only three segments of a copper ring, while in the simplest of other continuous current generators several times that number exist, and frequently 120! segments are to be found. These three segments are made so as to be removable in a moment for cleaning or replacement. They are mounted upon a metal support, and are surrounded on all sides by a free air space, and cannot, therefore, lose their insulated condition. This feature of air insulation is pe...</td>\n",
       "      <td>0.0</td>\n",
       "      <td>177</td>\n",
       "      <td>1068</td>\n",
       "      <td>7</td>\n",
       "      <td>0</td>\n",
       "      <td>1</td>\n",
       "      <td>8</td>\n",
       "    </tr>\n",
       "  </tbody>\n",
       "</table>\n",
       "</div>"
      ],
      "text/plain": [
       "   Unnamed: 0  \\\n",
       "0        1705   \n",
       "\n",
       "                                                                                                                                                                                                                                                                                                                                                                                                                                                                                                               excerpt  \\\n",
       "0  The commutator is peculiar, consisting of only three segments of a copper ring, while in the simplest of other continuous current generators several times that number exist, and frequently 120! segments are to be found. These three segments are made so as to be removable in a moment for cleaning or replacement. They are mounted upon a metal support, and are surrounded on all sides by a free air space, and cannot, therefore, lose their insulated condition. This feature of air insulation is pe...   \n",
       "\n",
       "   target  word_count  char_count  period_count  ques_count  excl_count  \\\n",
       "0     0.0         177        1068             7           0           1   \n",
       "\n",
       "   sent_count  \n",
       "0           8  "
      ]
     },
     "execution_count": 4,
     "metadata": {},
     "output_type": "execute_result"
    }
   ],
   "source": [
    "df = pd.read_csv('data/df_01.csv')\n",
    "df.head(1)"
   ]
  },
  {
   "cell_type": "code",
   "execution_count": 7,
   "id": "20e94f8b",
   "metadata": {},
   "outputs": [],
   "source": [
    "# Load English tokenizer, rtagger, parser and NER\n",
    "nlp = spacy.load(\"en_core_web_sm\")\n",
    "doc = nlp(df.excerpt[0])\n",
    "lemmatizer = nlp.get_pipe(\"lemmatizer\")\n",
    "\n"
   ]
  },
  {
   "cell_type": "code",
   "execution_count": 8,
   "id": "940eea4d",
   "metadata": {},
   "outputs": [],
   "source": [
    "def tokenize(text):\n",
    "    # normalize case and remove punctuation\n",
    "    text = re.sub(r\"[^a-zA-Z0-9]\", \" \", text.lower())\n",
    "    \n",
    "    # tokenize text\n",
    "    tokens = word_tokenize(text)\n",
    "    \n",
    "    # lemmatize and remove stop words\n",
    "    tokens = [lemmatizer.lemmatize(word) for word in tokens]"
   ]
  },
  {
   "cell_type": "code",
   "execution_count": 10,
   "id": "d6b47409",
   "metadata": {},
   "outputs": [],
   "source": [
    "from sklearn.feature_extraction.text import TfidfVectorizer\n",
    "\n",
    "# initialize tf-idf vectorizer object\n",
    "vectorizer = TfidfVectorizer()\n",
    "X = vectorizer.fit_transform(df.excerpt)"
   ]
  },
  {
   "cell_type": "code",
   "execution_count": 19,
   "id": "040e0d1d",
   "metadata": {},
   "outputs": [],
   "source": [
    "X = pd.DataFrame(X.toarray())"
   ]
  },
  {
   "cell_type": "code",
   "execution_count": 21,
   "id": "e5667276",
   "metadata": {},
   "outputs": [],
   "source": [
    "df = pd.concat([df, X], axis=1)"
   ]
  },
  {
   "cell_type": "code",
   "execution_count": 22,
   "id": "408e575f",
   "metadata": {},
   "outputs": [
    {
     "data": {
      "text/plain": [
       "(2834, 26842)"
      ]
     },
     "execution_count": 22,
     "metadata": {},
     "output_type": "execute_result"
    }
   ],
   "source": [
    "df.shape"
   ]
  },
  {
   "cell_type": "code",
   "execution_count": 24,
   "id": "58829d41",
   "metadata": {},
   "outputs": [],
   "source": [
    "df.to_csv('data/df_vect.csv')"
   ]
  },
  {
   "cell_type": "markdown",
   "id": "5d9827e9",
   "metadata": {},
   "source": [
    "### Random Forest Decision Regressor - Root Mean Squared Error: 0.15382661962874808"
   ]
  },
  {
   "cell_type": "code",
   "execution_count": 30,
   "id": "bf482f39",
   "metadata": {},
   "outputs": [],
   "source": [
    "from sklearn.model_selection import train_test_split\n",
    "from sklearn.model_selection import GridSearchCV\n",
    "from sklearn import metrics\n",
    "X_train, X_test, y_train, y_test = train_test_split(df.drop(['excerpt','target', 'Unnamed: 0'], axis=1), df.target, test_size=0.33, random_state=27)\n"
   ]
  },
  {
   "cell_type": "code",
   "execution_count": 33,
   "id": "9cbc06cb",
   "metadata": {},
   "outputs": [
    {
     "data": {
      "text/plain": [
       "2030    0.625485\n",
       "869     0.403285\n",
       "61      0.109119\n",
       "858     0.400387\n",
       "1607    0.547773\n",
       "          ...   \n",
       "141     0.179607\n",
       "1317    0.494885\n",
       "752     0.376969\n",
       "2591    0.769079\n",
       "1043    0.440932\n",
       "Name: target, Length: 1898, dtype: float64"
      ]
     },
     "execution_count": 33,
     "metadata": {},
     "output_type": "execute_result"
    }
   ],
   "source": [
    "y_train"
   ]
  },
  {
   "cell_type": "code",
   "execution_count": 34,
   "id": "2a633c20",
   "metadata": {},
   "outputs": [
    {
     "data": {
      "text/plain": [
       "RandomForestRegressor(max_depth=16, max_leaf_nodes=64, n_estimators=1000,\n",
       "                      n_jobs=-1, random_state=27)"
      ]
     },
     "execution_count": 34,
     "metadata": {},
     "output_type": "execute_result"
    }
   ],
   "source": [
    "rnd_reg = RandomForestRegressor(n_jobs=-1, random_state=27, criterion='mse',max_depth=16,\n",
    "                                max_features='auto', max_leaf_nodes=64, n_estimators=1000)\n",
    "rnd_reg.fit(X_train, y_train)"
   ]
  },
  {
   "cell_type": "code",
   "execution_count": 35,
   "id": "318d043d",
   "metadata": {},
   "outputs": [
    {
     "name": "stdout",
     "output_type": "stream",
     "text": [
      "Root Mean Squared Error: 0.15382661962874808\n"
     ]
    }
   ],
   "source": [
    "y_pred = rnd_reg.predict(X_test)\n",
    "print('Root Mean Squared Error:', np.sqrt(metrics.mean_squared_error(y_test, y_pred)))"
   ]
  },
  {
   "cell_type": "markdown",
   "id": "097788f2",
   "metadata": {},
   "source": [
    "### Support Vector Regressor"
   ]
  },
  {
   "cell_type": "code",
   "execution_count": 56,
   "id": "e6548ff4",
   "metadata": {},
   "outputs": [],
   "source": [
    "min_max_scaler = preprocessing.MinMaxScaler()\n",
    "X_train = pd.DataFrame(min_max_scaler.fit_transform(X_train))\n",
    "X_test = pd.DataFrame(min_max_scaler.fit_transform(X_test))\n",
    "y_train = min_max_scaler.fit_transform(pd.DataFrame(y_train))[:,0]\n",
    "y_test = min_max_scaler.fit_transform(pd.DataFrame(y_test))[:,0]\n"
   ]
  },
  {
   "cell_type": "code",
   "execution_count": 55,
   "id": "13c0e479",
   "metadata": {},
   "outputs": [
    {
     "data": {
      "text/plain": [
       "(1898, 26839)"
      ]
     },
     "execution_count": 55,
     "metadata": {},
     "output_type": "execute_result"
    }
   ],
   "source": [
    "X_train.shape"
   ]
  },
  {
   "cell_type": "code",
   "execution_count": 57,
   "id": "67f8b1ca",
   "metadata": {},
   "outputs": [
    {
     "data": {
      "text/plain": [
       "SVR(C=100, kernel='linear')"
      ]
     },
     "execution_count": 57,
     "metadata": {},
     "output_type": "execute_result"
    }
   ],
   "source": [
    "from sklearn.svm import SVR\n",
    "svm_lin_reg = SVR(kernel=\"linear\", C=100, epsilon=0.1)\n",
    "svm_lin_reg.fit(X_train, y_train)\n"
   ]
  },
  {
   "cell_type": "code",
   "execution_count": 58,
   "id": "628f20d6",
   "metadata": {},
   "outputs": [
    {
     "name": "stdout",
     "output_type": "stream",
     "text": [
      "Root Mean Squared Error: 0.14153505970773578\n"
     ]
    }
   ],
   "source": [
    "y_pred = svm_lin_reg.predict(X_test)\n",
    "print('Root Mean Squared Error:', np.sqrt(metrics.mean_squared_error(y_test, y_pred)))"
   ]
  },
  {
   "cell_type": "code",
   "execution_count": 60,
   "id": "ceb61e16",
   "metadata": {},
   "outputs": [
    {
     "name": "stdout",
     "output_type": "stream",
     "text": [
      "Root Mean Squared Error: 0.20895050671393425\n"
     ]
    }
   ],
   "source": [
    "svm_poly_reg = SVR(kernel=\"poly\", degree=3,C=100, epsilon=0.1)\n",
    "svm_poly_reg.fit(X_train, y_train)\n",
    "y_pred = svm_poly_reg.predict(X_test)\n",
    "print('Root Mean Squared Error:', np.sqrt(metrics.mean_squared_error(y_test, y_pred)))"
   ]
  },
  {
   "cell_type": "code",
   "execution_count": 61,
   "id": "128cd2fe",
   "metadata": {},
   "outputs": [
    {
     "name": "stdout",
     "output_type": "stream",
     "text": [
      "Root Mean Squared Error: 0.16256582443206286\n"
     ]
    }
   ],
   "source": [
    "svm_rbf_reg = SVR(kernel=\"rbf\", C=100, epsilon=0.1)\n",
    "svm_rbf_reg.fit(X_train, y_train)\n",
    "y_pred = svm_rbf_reg.predict(X_test)\n",
    "print('Root Mean Squared Error:', np.sqrt(metrics.mean_squared_error(y_test, y_pred)))"
   ]
  },
  {
   "cell_type": "code",
   "execution_count": 65,
   "id": "15c94fd5",
   "metadata": {},
   "outputs": [
    {
     "data": {
      "text/plain": [
       "GridSearchCV(cv=5, estimator=SVR(kernel='poly'),\n",
       "             param_grid={'C': [1, 100, 1000], 'degree': [3, 5, 10],\n",
       "                         'epsilon': [0.1, 0.05]})"
      ]
     },
     "execution_count": 65,
     "metadata": {},
     "output_type": "execute_result"
    }
   ],
   "source": [
    "from sklearn.model_selection import GridSearchCV\n",
    "svr_poly = SVR(kernel=\"poly\")\n",
    "param_grid = { \n",
    "    'degree': [3,5,10],\n",
    "    'C': [1, 100, 1000],\n",
    "    'epsilon':[0.1,0.05]\n",
    "}\n",
    "cv_svr_poly = GridSearchCV(estimator=svr_poly, param_grid=param_grid, cv=5)\n",
    "cv_svr_poly.fit(X_train, y_train)"
   ]
  },
  {
   "cell_type": "code",
   "execution_count": 66,
   "id": "e36c9a8f",
   "metadata": {},
   "outputs": [
    {
     "name": "stdout",
     "output_type": "stream",
     "text": [
      "{'C': 1, 'degree': 3, 'epsilon': 0.1}\n",
      "Root Mean Squared Error: 0.2062639625718727\n"
     ]
    }
   ],
   "source": [
    "print(cv_svr_poly.best_params_)\n",
    "y_pred = cv_svr_poly.predict(X_test)\n",
    "print('Root Mean Squared Error:', np.sqrt(metrics.mean_squared_error(y_test, y_pred)))"
   ]
  },
  {
   "cell_type": "code",
   "execution_count": 67,
   "id": "cecf8289",
   "metadata": {},
   "outputs": [
    {
     "name": "stdout",
     "output_type": "stream",
     "text": [
      "{'C': 1}\n",
      "Root Mean Squared Error: 0.16256582443206286\n"
     ]
    }
   ],
   "source": [
    "svr_rbf = SVR(kernel=\"rbf\")\n",
    "param_grid = { \n",
    "    'C': [1, 50,100]\n",
    "}\n",
    "cv_svr_rbf = GridSearchCV(estimator=svr_rbf, param_grid=param_grid, cv=5)\n",
    "cv_svr_rbf.fit(X_train, y_train)\n",
    "print(cv_svr_rbf.best_params_)\n",
    "y_pred = cv_svr_rbf.predict(X_test)\n",
    "print('Root Mean Squared Error:', np.sqrt(metrics.mean_squared_error(y_test, y_pred)))"
   ]
  },
  {
   "cell_type": "code",
   "execution_count": null,
   "id": "811c06ef",
   "metadata": {},
   "outputs": [],
   "source": []
  }
 ],
 "metadata": {
  "kernelspec": {
   "display_name": "Python 3",
   "language": "python",
   "name": "python3"
  },
  "language_info": {
   "codemirror_mode": {
    "name": "ipython",
    "version": 3
   },
   "file_extension": ".py",
   "mimetype": "text/x-python",
   "name": "python",
   "nbconvert_exporter": "python",
   "pygments_lexer": "ipython3",
   "version": "3.8.5"
  }
 },
 "nbformat": 4,
 "nbformat_minor": 5
}
